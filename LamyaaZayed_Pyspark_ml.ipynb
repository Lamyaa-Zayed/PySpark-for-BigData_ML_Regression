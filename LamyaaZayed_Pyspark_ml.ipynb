{
  "nbformat": 4,
  "nbformat_minor": 0,
  "metadata": {
    "colab": {
      "name": "LamyaaZayed_Session_2_H_W.ipynb",
      "provenance": [],
      "collapsed_sections": []
    },
    "kernelspec": {
      "display_name": "Python 3",
      "language": "python",
      "name": "python3"
    },
    "language_info": {
      "codemirror_mode": {
        "name": "ipython",
        "version": 3
      },
      "file_extension": ".py",
      "mimetype": "text/x-python",
      "name": "python",
      "nbconvert_exporter": "python",
      "pygments_lexer": "ipython3",
      "version": "3.8.8"
    }
  },
  "cells": [
    {
      "cell_type": "markdown",
      "metadata": {
        "id": "vIwZsU0haNkj"
      },
      "source": [
        "## Task 1 - SQL"
      ]
    },
    {
      "cell_type": "code",
      "metadata": {
        "id": "h-9KZS30aNwf"
      },
      "source": [
        "!apt-get install openjdk-8-jdk-headless -qq > /dev/null\n",
        "\n",
        "\n",
        "\n",
        "!wget -q https://archive.apache.org/dist/spark/spark-3.0.1/spark-3.0.1-bin-hadoop3.2.tgz\n",
        "\n",
        "\n",
        "!tar xf spark-3.0.1-bin-hadoop3.2.tgz\n",
        "\n",
        "\n",
        "!pip install -q findspark\n",
        "\n",
        "import os\n",
        "os.environ[\"JAVA_HOME\"] = \"/usr/lib/jvm/java-8-openjdk-amd64\"\n",
        "os.environ[\"SPARK_HOME\"] = \"/content/spark-3.0.1-bin-hadoop3.2\"\n",
        "\n",
        "import findspark\n",
        "findspark.init()\n",
        "import pyspark\n",
        "from pyspark.sql import SparkSession"
      ],
      "execution_count": 1,
      "outputs": []
    },
    {
      "cell_type": "markdown",
      "metadata": {
        "id": "45wCuSvgajao"
      },
      "source": [
        "### Build SparkSession:"
      ]
    },
    {
      "cell_type": "code",
      "metadata": {
        "id": "JwcbnqiymCE3"
      },
      "source": [
        "spark = SparkSession.builder.appName('spark_HW2').getOrCreate()"
      ],
      "execution_count": 2,
      "outputs": []
    },
    {
      "cell_type": "markdown",
      "metadata": {
        "id": "g8HITwTqnJcX"
      },
      "source": [
        "### Read the json file:"
      ]
    },
    {
      "cell_type": "code",
      "metadata": {
        "id": "93iqAB7tnMYQ",
        "colab": {
          "resources": {
            "http://localhost:8080/nbextensions/google.colab/files.js": {
              "data": "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",
              "ok": true,
              "headers": [
                [
                  "content-type",
                  "application/javascript"
                ]
              ],
              "status": 200,
              "status_text": ""
            }
          },
          "base_uri": "https://localhost:8080/",
          "height": 177
        },
        "outputId": "06f1f402-24b8-45fe-fe6a-1a8a17c04e29"
      },
      "source": [
        "from google.colab import files\n",
        "uploaded = files.upload()"
      ],
      "execution_count": 3,
      "outputs": [
        {
          "output_type": "display_data",
          "data": {
            "text/html": [
              "\n",
              "     <input type=\"file\" id=\"files-cedad2f7-3822-4cfb-a361-f4b9a46d6a5b\" name=\"files[]\" multiple disabled\n",
              "        style=\"border:none\" />\n",
              "     <output id=\"result-cedad2f7-3822-4cfb-a361-f4b9a46d6a5b\">\n",
              "      Upload widget is only available when the cell has been executed in the\n",
              "      current browser session. Please rerun this cell to enable.\n",
              "      </output>\n",
              "      <script src=\"/nbextensions/google.colab/files.js\"></script> "
            ],
            "text/plain": [
              "<IPython.core.display.HTML object>"
            ]
          },
          "metadata": {}
        },
        {
          "output_type": "stream",
          "name": "stdout",
          "text": [
            "Saving DataFrames_sample.json to DataFrames_sample.json\n",
            "Saving ITI_data.csv to ITI_data.csv\n",
            "Saving test1.csv to test1.csv\n",
            "Saving test3.csv to test3.csv\n"
          ]
        }
      ]
    },
    {
      "cell_type": "code",
      "metadata": {
        "id": "K_eNxFjQabgG"
      },
      "source": [
        "import io\n",
        "DataFrames_json = spark.read.json('DataFrames_sample.json')"
      ],
      "execution_count": 6,
      "outputs": []
    },
    {
      "cell_type": "markdown",
      "metadata": {
        "id": "jNx0qMfunbKX"
      },
      "source": [
        "### Display the schema:\n"
      ]
    },
    {
      "cell_type": "code",
      "metadata": {
        "id": "UG4CcVJenc9y",
        "colab": {
          "base_uri": "https://localhost:8080/"
        },
        "outputId": "e52b531c-8eef-4cb4-8be3-dedc1ad12b8f"
      },
      "source": [
        "DataFrames_json.printSchema()"
      ],
      "execution_count": 7,
      "outputs": [
        {
          "output_type": "stream",
          "name": "stdout",
          "text": [
            "root\n",
            " |-- D: double (nullable = true)\n",
            " |-- H: double (nullable = true)\n",
            " |-- HDD: string (nullable = true)\n",
            " |-- Id: long (nullable = true)\n",
            " |-- Model: string (nullable = true)\n",
            " |-- RAM: string (nullable = true)\n",
            " |-- ScreenSize: string (nullable = true)\n",
            " |-- W: double (nullable = true)\n",
            " |-- Weight: double (nullable = true)\n",
            " |-- Year: long (nullable = true)\n",
            "\n"
          ]
        }
      ]
    },
    {
      "cell_type": "markdown",
      "metadata": {
        "id": "Zaj0nHTcngEF"
      },
      "source": [
        "### Get all the data when \"Model\" equal \"MacBook Pro\":\n",
        "\n",
        "\n"
      ]
    },
    {
      "cell_type": "code",
      "metadata": {
        "id": "TkwpHLzkdVvR"
      },
      "source": [
        "from pyspark.sql.functions import *\n",
        "from pyspark.sql.types import *"
      ],
      "execution_count": 8,
      "outputs": []
    },
    {
      "cell_type": "code",
      "metadata": {
        "id": "Vm9QPKBCnkuS",
        "colab": {
          "base_uri": "https://localhost:8080/"
        },
        "outputId": "4a5d198b-b591-4fcf-8f96-9b7cf1009e31"
      },
      "source": [
        "DataFrames_json.where(col('Model')=='MacBook Pro').show()"
      ],
      "execution_count": 11,
      "outputs": [
        {
          "output_type": "stream",
          "name": "stdout",
          "text": [
            "+----+----+---------+---+-----------+----+----------+-----+------+----+\n",
            "|   D|   H|      HDD| Id|      Model| RAM|ScreenSize|    W|Weight|Year|\n",
            "+----+----+---------+---+-----------+----+----------+-----+------+----+\n",
            "|9.48|0.61|512GB SSD|  1|MacBook Pro|16GB|       15\"|13.75|  4.02|2015|\n",
            "+----+----+---------+---+-----------+----+----------+-----+------+----+\n",
            "\n"
          ]
        }
      ]
    },
    {
      "cell_type": "markdown",
      "metadata": {
        "id": "43oLte9LuGzA"
      },
      "source": [
        "### Create TempView:"
      ]
    },
    {
      "cell_type": "code",
      "metadata": {
        "id": "nVFYFcjtdIGW"
      },
      "source": [
        "DataFrames_json.createOrReplaceTempView('DataFrames_json_view')"
      ],
      "execution_count": 14,
      "outputs": []
    },
    {
      "cell_type": "markdown",
      "metadata": {
        "id": "dCLMmjRLdjbT"
      },
      "source": [
        "### Display \"RAM\"column and count \"RAM\" column:"
      ]
    },
    {
      "cell_type": "code",
      "metadata": {
        "id": "BxykutRjuF0X",
        "colab": {
          "base_uri": "https://localhost:8080/"
        },
        "outputId": "160a88ef-5b4b-4366-eb6c-33e6645b17dc"
      },
      "source": [
        "spark.sql('SELECT RAM,COUNT(RAM) AS RAM_Count FROM DataFrames_json_view GROUP BY RAM').show()"
      ],
      "execution_count": 15,
      "outputs": [
        {
          "output_type": "stream",
          "name": "stdout",
          "text": [
            "+----+---------+\n",
            "| RAM|RAM_Count|\n",
            "+----+---------+\n",
            "|64GB|        1|\n",
            "|16GB|        1|\n",
            "| 8GB|        2|\n",
            "+----+---------+\n",
            "\n"
          ]
        }
      ]
    },
    {
      "cell_type": "markdown",
      "metadata": {
        "id": "b5nlwq4t9gvK"
      },
      "source": [
        "### Get all columns when \"Year\" column equal \"2015\"  "
      ]
    },
    {
      "cell_type": "code",
      "metadata": {
        "id": "WXxjFxN19hJl",
        "colab": {
          "base_uri": "https://localhost:8080/"
        },
        "outputId": "ba0e238c-7f43-430c-a55c-26fc6edb020a"
      },
      "source": [
        "spark.sql(\"SELECT * FROM DataFrames_json_view WHERE Year=='2015'\").show()"
      ],
      "execution_count": 22,
      "outputs": [
        {
          "output_type": "stream",
          "name": "stdout",
          "text": [
            "+----+----+---------+---+-----------+----+----------+-----+------+----+\n",
            "|   D|   H|      HDD| Id|      Model| RAM|ScreenSize|    W|Weight|Year|\n",
            "+----+----+---------+---+-----------+----+----------+-----+------+----+\n",
            "|9.48|0.61|512GB SSD|  1|MacBook Pro|16GB|       15\"|13.75|  4.02|2015|\n",
            "+----+----+---------+---+-----------+----+----------+-----+------+----+\n",
            "\n"
          ]
        }
      ]
    },
    {
      "cell_type": "markdown",
      "metadata": {
        "id": "JHjK2Kqfuv24"
      },
      "source": [
        "### Get all when \"Model\" start with \"M\":"
      ]
    },
    {
      "cell_type": "code",
      "metadata": {
        "id": "m30EkY_iu1Gs",
        "colab": {
          "base_uri": "https://localhost:8080/"
        },
        "outputId": "5feb5803-2892-4930-957e-006032f7ad23"
      },
      "source": [
        "spark.sql(\"SELECT * FROM DataFrames_json_view WHERE Model LIKE 'M%'\").show()"
      ],
      "execution_count": 26,
      "outputs": [
        {
          "output_type": "stream",
          "name": "stdout",
          "text": [
            "+----+----+---------+---+-----------+----+----------+-----+------+----+\n",
            "|   D|   H|      HDD| Id|      Model| RAM|ScreenSize|    W|Weight|Year|\n",
            "+----+----+---------+---+-----------+----+----------+-----+------+----+\n",
            "|9.48|0.61|512GB SSD|  1|MacBook Pro|16GB|       15\"|13.75|  4.02|2015|\n",
            "|7.74|0.52|256GB SSD|  2|    MacBook| 8GB|       12\"|11.04|  2.03|2016|\n",
            "|8.94|0.68|128GB SSD|  3|MacBook Air| 8GB|     13.3\"| 12.8|  2.96|2016|\n",
            "+----+----+---------+---+-----------+----+----------+-----+------+----+\n",
            "\n"
          ]
        }
      ]
    },
    {
      "cell_type": "markdown",
      "metadata": {
        "id": "Igw9iqJQ7TdH"
      },
      "source": [
        "### Get all data when \"Model\" column equal \"MacBook Pro\""
      ]
    },
    {
      "cell_type": "code",
      "metadata": {
        "id": "SRCGSB_W9cPc",
        "colab": {
          "base_uri": "https://localhost:8080/"
        },
        "outputId": "0e22df89-c2e8-4cf8-db8a-4807e95d028d"
      },
      "source": [
        "spark.sql(\"SELECT * FROM DataFrames_json_view WHERE Model == 'MacBook Pro'\").show()"
      ],
      "execution_count": 27,
      "outputs": [
        {
          "output_type": "stream",
          "name": "stdout",
          "text": [
            "+----+----+---------+---+-----------+----+----------+-----+------+----+\n",
            "|   D|   H|      HDD| Id|      Model| RAM|ScreenSize|    W|Weight|Year|\n",
            "+----+----+---------+---+-----------+----+----------+-----+------+----+\n",
            "|9.48|0.61|512GB SSD|  1|MacBook Pro|16GB|       15\"|13.75|  4.02|2015|\n",
            "+----+----+---------+---+-----------+----+----------+-----+------+----+\n",
            "\n"
          ]
        }
      ]
    },
    {
      "cell_type": "markdown",
      "metadata": {
        "id": "OZIlmJidw1Ep"
      },
      "source": [
        "### Get all data with Multiple Conditions when \"RAM\" column equal \"8GB\" and \"Model\" column is \"Macbook\"."
      ]
    },
    {
      "cell_type": "code",
      "metadata": {
        "id": "-5T7roxgnBBV",
        "colab": {
          "base_uri": "https://localhost:8080/"
        },
        "outputId": "f123bd86-7f8f-4615-9efe-68a0ff122941"
      },
      "source": [
        "spark.sql(\"SELECT * FROM DataFrames_json_view WHERE Model=='Macbook' OR RAM=='8GB'\").show()"
      ],
      "execution_count": 31,
      "outputs": [
        {
          "output_type": "stream",
          "name": "stdout",
          "text": [
            "+----+----+---------+---+-----------+---+----------+-----+------+----+\n",
            "|   D|   H|      HDD| Id|      Model|RAM|ScreenSize|    W|Weight|Year|\n",
            "+----+----+---------+---+-----------+---+----------+-----+------+----+\n",
            "|7.74|0.52|256GB SSD|  2|    MacBook|8GB|       12\"|11.04|  2.03|2016|\n",
            "|8.94|0.68|128GB SSD|  3|MacBook Air|8GB|     13.3\"| 12.8|  2.96|2016|\n",
            "+----+----+---------+---+-----------+---+----------+-----+------+----+\n",
            "\n"
          ]
        }
      ]
    },
    {
      "cell_type": "markdown",
      "metadata": {
        "id": "qk8YPAWQ8HxI"
      },
      "source": [
        "### Get all data with Multiple Conditions when \"D\" greater than or equal \"8\" and \"Model\" column is \"iMac\"."
      ]
    },
    {
      "cell_type": "code",
      "metadata": {
        "id": "XDHJSpQK9MuS",
        "colab": {
          "base_uri": "https://localhost:8080/"
        },
        "outputId": "3dfd9f85-1948-4005-8daa-bc4eebdf9b67"
      },
      "source": [
        "spark.sql(\"SELECT * FROM DataFrames_json_view WHERE Model=='iMac' OR D>=8\").show()"
      ],
      "execution_count": 32,
      "outputs": [
        {
          "output_type": "stream",
          "name": "stdout",
          "text": [
            "+----+----+---------+---+-----------+----+----------+-----+------+----+\n",
            "|   D|   H|      HDD| Id|      Model| RAM|ScreenSize|    W|Weight|Year|\n",
            "+----+----+---------+---+-----------+----+----------+-----+------+----+\n",
            "|9.48|0.61|512GB SSD|  1|MacBook Pro|16GB|       15\"|13.75|  4.02|2015|\n",
            "|8.94|0.68|128GB SSD|  3|MacBook Air| 8GB|     13.3\"| 12.8|  2.96|2016|\n",
            "| 8.0|20.3|  1TB SSD|  4|       iMac|64GB|       27\"| 25.6|  20.8|2017|\n",
            "+----+----+---------+---+-----------+----+----------+-----+------+----+\n",
            "\n"
          ]
        }
      ]
    },
    {
      "cell_type": "markdown",
      "metadata": {
        "id": "5d6364f6"
      },
      "source": [
        "## Task 2\n"
      ]
    },
    {
      "cell_type": "markdown",
      "metadata": {
        "id": "rlWhDvTPfZgu"
      },
      "source": [
        "### Read \"test1\" dataset:"
      ]
    },
    {
      "cell_type": "code",
      "metadata": {
        "id": "7964d064"
      },
      "source": [
        "Test1_csv = spark.read.csv('test1.csv', header=True, inferSchema=True)"
      ],
      "execution_count": 36,
      "outputs": []
    },
    {
      "cell_type": "code",
      "metadata": {
        "colab": {
          "base_uri": "https://localhost:8080/"
        },
        "id": "vi6AlYptn-8X",
        "outputId": "c3ea5efb-6dd1-4fa3-d5c4-2a40b6d3169d"
      },
      "source": [
        "Test1_csv.show(truncate=False)"
      ],
      "execution_count": 44,
      "outputs": [
        {
          "output_type": "stream",
          "name": "stdout",
          "text": [
            "+---------+---+----------+------+\n",
            "|Name     |age|Experience|Salary|\n",
            "+---------+---+----------+------+\n",
            "|Krish    |31 |10        |30000 |\n",
            "|Sudhanshu|30 |8         |25000 |\n",
            "|Sunny    |29 |4         |20000 |\n",
            "|Paul     |24 |3         |20000 |\n",
            "|Harsha   |21 |1         |15000 |\n",
            "|Shubham  |23 |2         |18000 |\n",
            "+---------+---+----------+------+\n",
            "\n"
          ]
        }
      ]
    },
    {
      "cell_type": "markdown",
      "metadata": {
        "id": "EJKjDOKHfnCt"
      },
      "source": [
        "### Display Salary of the people less than or equal to 20000"
      ]
    },
    {
      "cell_type": "code",
      "metadata": {
        "id": "c21edffc",
        "colab": {
          "base_uri": "https://localhost:8080/"
        },
        "outputId": "7fe1bad5-f586-4009-9d21-87b3e5856928"
      },
      "source": [
        "Test1_csv.where(col('Salary')<=20000).show(truncate=False)"
      ],
      "execution_count": 43,
      "outputs": [
        {
          "output_type": "stream",
          "name": "stdout",
          "text": [
            "+-------+---+----------+------+\n",
            "|Name   |age|Experience|Salary|\n",
            "+-------+---+----------+------+\n",
            "|Sunny  |29 |4         |20000 |\n",
            "|Paul   |24 |3         |20000 |\n",
            "|Harsha |21 |1         |15000 |\n",
            "|Shubham|23 |2         |18000 |\n",
            "+-------+---+----------+------+\n",
            "\n"
          ]
        }
      ]
    },
    {
      "cell_type": "markdown",
      "metadata": {
        "id": "OvFWNFJjf0Pq"
      },
      "source": [
        "### Display Salary of the people less than or equal to 20000 and greater than or equal 15000"
      ]
    },
    {
      "cell_type": "code",
      "metadata": {
        "id": "26f76ee1",
        "colab": {
          "base_uri": "https://localhost:8080/"
        },
        "outputId": "b761ce61-ab8e-4c95-964f-684285caa4b2"
      },
      "source": [
        "Test1_csv.where(col('Salary') <= 20000).where(col('Salary') >= 15000).show(truncate=False)"
      ],
      "execution_count": 46,
      "outputs": [
        {
          "output_type": "stream",
          "name": "stdout",
          "text": [
            "+-------+---+----------+------+\n",
            "|Name   |age|Experience|Salary|\n",
            "+-------+---+----------+------+\n",
            "|Sunny  |29 |4         |20000 |\n",
            "|Paul   |24 |3         |20000 |\n",
            "|Harsha |21 |1         |15000 |\n",
            "|Shubham|23 |2         |18000 |\n",
            "+-------+---+----------+------+\n",
            "\n"
          ]
        }
      ]
    },
    {
      "cell_type": "markdown",
      "metadata": {
        "id": "9VAcIXkTgN9D"
      },
      "source": [
        "## Task 3 "
      ]
    },
    {
      "cell_type": "markdown",
      "metadata": {
        "id": "uOeqRO2KgW34"
      },
      "source": [
        "### Read \"test3\" dataset:"
      ]
    },
    {
      "cell_type": "code",
      "metadata": {
        "id": "4d3bd081"
      },
      "source": [
        "Test3_csv = spark.read.csv('test3.csv', inferSchema=True, header=True)"
      ],
      "execution_count": 53,
      "outputs": []
    },
    {
      "cell_type": "markdown",
      "metadata": {
        "id": "ejyUT1rngdeR"
      },
      "source": [
        "### Display dataset"
      ]
    },
    {
      "cell_type": "code",
      "metadata": {
        "id": "7ed791ed",
        "colab": {
          "base_uri": "https://localhost:8080/"
        },
        "outputId": "e825b67f-0ee0-4b3f-f350-83cec3ea4483"
      },
      "source": [
        "Test3_csv.show(truncate=False)"
      ],
      "execution_count": 54,
      "outputs": [
        {
          "output_type": "stream",
          "name": "stdout",
          "text": [
            "+---------+------------+------+\n",
            "|Name     |Departments |salary|\n",
            "+---------+------------+------+\n",
            "|Krish    |Data Science|10000 |\n",
            "|Krish    |IOT         |5000  |\n",
            "|Mahesh   |Big Data    |4000  |\n",
            "|Krish    |Big Data    |4000  |\n",
            "|Mahesh   |Data Science|3000  |\n",
            "|Sudhanshu|Data Science|20000 |\n",
            "|Sudhanshu|IOT         |10000 |\n",
            "|Sudhanshu|Big Data    |5000  |\n",
            "|Sunny    |Data Science|10000 |\n",
            "|Sunny    |Big Data    |2000  |\n",
            "+---------+------------+------+\n",
            "\n"
          ]
        }
      ]
    },
    {
      "cell_type": "markdown",
      "metadata": {
        "id": "Xp42YtorghXJ"
      },
      "source": [
        "### Display schema"
      ]
    },
    {
      "cell_type": "code",
      "metadata": {
        "id": "d57d24ca",
        "colab": {
          "base_uri": "https://localhost:8080/"
        },
        "outputId": "f5cacadc-cd19-44f3-bddf-2dac4aa6bbde"
      },
      "source": [
        "Test3_csv.printSchema()"
      ],
      "execution_count": 49,
      "outputs": [
        {
          "output_type": "stream",
          "name": "stdout",
          "text": [
            "root\n",
            " |-- Name: string (nullable = true)\n",
            " |-- Departments: string (nullable = true)\n",
            " |-- salary: integer (nullable = true)\n",
            "\n"
          ]
        }
      ]
    },
    {
      "cell_type": "code",
      "metadata": {
        "colab": {
          "base_uri": "https://localhost:8080/"
        },
        "id": "d5NRCR0RxDH2",
        "outputId": "010bff66-d29d-4f18-bb7f-a6d8d4d176b6"
      },
      "source": [
        "type(Test3_csv)"
      ],
      "execution_count": 62,
      "outputs": [
        {
          "output_type": "execute_result",
          "data": {
            "text/plain": [
              "pyspark.sql.dataframe.DataFrame"
            ]
          },
          "metadata": {},
          "execution_count": 62
        }
      ]
    },
    {
      "cell_type": "markdown",
      "metadata": {
        "id": "PHxWeGCCgnww"
      },
      "source": [
        "### Group by \"Name\" column and using sum function on \"Name\" column"
      ]
    },
    {
      "cell_type": "code",
      "metadata": {
        "colab": {
          "base_uri": "https://localhost:8080/",
          "height": 358
        },
        "id": "a90KnQO90iAj",
        "outputId": "e2e80a46-7da4-4683-d69b-462152e86ee9"
      },
      "source": [
        "test3_df = Test3_csv.toPandas()\n",
        "test3_df"
      ],
      "execution_count": 94,
      "outputs": [
        {
          "output_type": "execute_result",
          "data": {
            "text/html": [
              "<div>\n",
              "<style scoped>\n",
              "    .dataframe tbody tr th:only-of-type {\n",
              "        vertical-align: middle;\n",
              "    }\n",
              "\n",
              "    .dataframe tbody tr th {\n",
              "        vertical-align: top;\n",
              "    }\n",
              "\n",
              "    .dataframe thead th {\n",
              "        text-align: right;\n",
              "    }\n",
              "</style>\n",
              "<table border=\"1\" class=\"dataframe\">\n",
              "  <thead>\n",
              "    <tr style=\"text-align: right;\">\n",
              "      <th></th>\n",
              "      <th>Name</th>\n",
              "      <th>Departments</th>\n",
              "      <th>salary</th>\n",
              "    </tr>\n",
              "  </thead>\n",
              "  <tbody>\n",
              "    <tr>\n",
              "      <th>0</th>\n",
              "      <td>Krish</td>\n",
              "      <td>Data Science</td>\n",
              "      <td>10000</td>\n",
              "    </tr>\n",
              "    <tr>\n",
              "      <th>1</th>\n",
              "      <td>Krish</td>\n",
              "      <td>IOT</td>\n",
              "      <td>5000</td>\n",
              "    </tr>\n",
              "    <tr>\n",
              "      <th>2</th>\n",
              "      <td>Mahesh</td>\n",
              "      <td>Big Data</td>\n",
              "      <td>4000</td>\n",
              "    </tr>\n",
              "    <tr>\n",
              "      <th>3</th>\n",
              "      <td>Krish</td>\n",
              "      <td>Big Data</td>\n",
              "      <td>4000</td>\n",
              "    </tr>\n",
              "    <tr>\n",
              "      <th>4</th>\n",
              "      <td>Mahesh</td>\n",
              "      <td>Data Science</td>\n",
              "      <td>3000</td>\n",
              "    </tr>\n",
              "    <tr>\n",
              "      <th>5</th>\n",
              "      <td>Sudhanshu</td>\n",
              "      <td>Data Science</td>\n",
              "      <td>20000</td>\n",
              "    </tr>\n",
              "    <tr>\n",
              "      <th>6</th>\n",
              "      <td>Sudhanshu</td>\n",
              "      <td>IOT</td>\n",
              "      <td>10000</td>\n",
              "    </tr>\n",
              "    <tr>\n",
              "      <th>7</th>\n",
              "      <td>Sudhanshu</td>\n",
              "      <td>Big Data</td>\n",
              "      <td>5000</td>\n",
              "    </tr>\n",
              "    <tr>\n",
              "      <th>8</th>\n",
              "      <td>Sunny</td>\n",
              "      <td>Data Science</td>\n",
              "      <td>10000</td>\n",
              "    </tr>\n",
              "    <tr>\n",
              "      <th>9</th>\n",
              "      <td>Sunny</td>\n",
              "      <td>Big Data</td>\n",
              "      <td>2000</td>\n",
              "    </tr>\n",
              "  </tbody>\n",
              "</table>\n",
              "</div>"
            ],
            "text/plain": [
              "        Name   Departments  salary\n",
              "0      Krish  Data Science   10000\n",
              "1      Krish           IOT    5000\n",
              "2     Mahesh      Big Data    4000\n",
              "3      Krish      Big Data    4000\n",
              "4     Mahesh  Data Science    3000\n",
              "5  Sudhanshu  Data Science   20000\n",
              "6  Sudhanshu           IOT   10000\n",
              "7  Sudhanshu      Big Data    5000\n",
              "8      Sunny  Data Science   10000\n",
              "9      Sunny      Big Data    2000"
            ]
          },
          "metadata": {},
          "execution_count": 94
        }
      ]
    },
    {
      "cell_type": "code",
      "metadata": {
        "colab": {
          "base_uri": "https://localhost:8080/",
          "height": 204
        },
        "id": "1Xdd4P2W3zvL",
        "outputId": "098e5a45-f7e6-4972-dd09-4b38c0cba655"
      },
      "source": [
        "test3_df.groupby('Name').sum()"
      ],
      "execution_count": 66,
      "outputs": [
        {
          "output_type": "execute_result",
          "data": {
            "text/html": [
              "<div>\n",
              "<style scoped>\n",
              "    .dataframe tbody tr th:only-of-type {\n",
              "        vertical-align: middle;\n",
              "    }\n",
              "\n",
              "    .dataframe tbody tr th {\n",
              "        vertical-align: top;\n",
              "    }\n",
              "\n",
              "    .dataframe thead th {\n",
              "        text-align: right;\n",
              "    }\n",
              "</style>\n",
              "<table border=\"1\" class=\"dataframe\">\n",
              "  <thead>\n",
              "    <tr style=\"text-align: right;\">\n",
              "      <th></th>\n",
              "      <th>salary</th>\n",
              "    </tr>\n",
              "    <tr>\n",
              "      <th>Name</th>\n",
              "      <th></th>\n",
              "    </tr>\n",
              "  </thead>\n",
              "  <tbody>\n",
              "    <tr>\n",
              "      <th>Krish</th>\n",
              "      <td>19000</td>\n",
              "    </tr>\n",
              "    <tr>\n",
              "      <th>Mahesh</th>\n",
              "      <td>7000</td>\n",
              "    </tr>\n",
              "    <tr>\n",
              "      <th>Sudhanshu</th>\n",
              "      <td>35000</td>\n",
              "    </tr>\n",
              "    <tr>\n",
              "      <th>Sunny</th>\n",
              "      <td>12000</td>\n",
              "    </tr>\n",
              "  </tbody>\n",
              "</table>\n",
              "</div>"
            ],
            "text/plain": [
              "           salary\n",
              "Name             \n",
              "Krish       19000\n",
              "Mahesh       7000\n",
              "Sudhanshu   35000\n",
              "Sunny       12000"
            ]
          },
          "metadata": {},
          "execution_count": 66
        }
      ]
    },
    {
      "cell_type": "markdown",
      "metadata": {
        "id": "gWgkaU3bhUOL"
      },
      "source": [
        "### Group by \"Name\" column and using avg function on \"Name\" column"
      ]
    },
    {
      "cell_type": "code",
      "metadata": {
        "id": "fc122ace",
        "colab": {
          "base_uri": "https://localhost:8080/",
          "height": 204
        },
        "outputId": "49debd68-3458-4fa4-99de-11845f81e0bc"
      },
      "source": [
        "test3_df.groupby('Name').mean()"
      ],
      "execution_count": 72,
      "outputs": [
        {
          "output_type": "execute_result",
          "data": {
            "text/html": [
              "<div>\n",
              "<style scoped>\n",
              "    .dataframe tbody tr th:only-of-type {\n",
              "        vertical-align: middle;\n",
              "    }\n",
              "\n",
              "    .dataframe tbody tr th {\n",
              "        vertical-align: top;\n",
              "    }\n",
              "\n",
              "    .dataframe thead th {\n",
              "        text-align: right;\n",
              "    }\n",
              "</style>\n",
              "<table border=\"1\" class=\"dataframe\">\n",
              "  <thead>\n",
              "    <tr style=\"text-align: right;\">\n",
              "      <th></th>\n",
              "      <th>salary</th>\n",
              "    </tr>\n",
              "    <tr>\n",
              "      <th>Name</th>\n",
              "      <th></th>\n",
              "    </tr>\n",
              "  </thead>\n",
              "  <tbody>\n",
              "    <tr>\n",
              "      <th>Krish</th>\n",
              "      <td>6333.333333</td>\n",
              "    </tr>\n",
              "    <tr>\n",
              "      <th>Mahesh</th>\n",
              "      <td>3500.000000</td>\n",
              "    </tr>\n",
              "    <tr>\n",
              "      <th>Sudhanshu</th>\n",
              "      <td>11666.666667</td>\n",
              "    </tr>\n",
              "    <tr>\n",
              "      <th>Sunny</th>\n",
              "      <td>6000.000000</td>\n",
              "    </tr>\n",
              "  </tbody>\n",
              "</table>\n",
              "</div>"
            ],
            "text/plain": [
              "                 salary\n",
              "Name                   \n",
              "Krish       6333.333333\n",
              "Mahesh      3500.000000\n",
              "Sudhanshu  11666.666667\n",
              "Sunny       6000.000000"
            ]
          },
          "metadata": {},
          "execution_count": 72
        }
      ]
    },
    {
      "cell_type": "markdown",
      "metadata": {
        "id": "ARg_-WPKhfL5"
      },
      "source": [
        "### Group by \"Departments\" column and using sum function on \"Departments\" column"
      ]
    },
    {
      "cell_type": "code",
      "metadata": {
        "id": "151d2264",
        "colab": {
          "base_uri": "https://localhost:8080/",
          "height": 172
        },
        "outputId": "8c749664-b5d7-4f94-d8b6-b5ddfa12d273"
      },
      "source": [
        "test3_df.groupby('Departments').sum()"
      ],
      "execution_count": 74,
      "outputs": [
        {
          "output_type": "execute_result",
          "data": {
            "text/html": [
              "<div>\n",
              "<style scoped>\n",
              "    .dataframe tbody tr th:only-of-type {\n",
              "        vertical-align: middle;\n",
              "    }\n",
              "\n",
              "    .dataframe tbody tr th {\n",
              "        vertical-align: top;\n",
              "    }\n",
              "\n",
              "    .dataframe thead th {\n",
              "        text-align: right;\n",
              "    }\n",
              "</style>\n",
              "<table border=\"1\" class=\"dataframe\">\n",
              "  <thead>\n",
              "    <tr style=\"text-align: right;\">\n",
              "      <th></th>\n",
              "      <th>salary</th>\n",
              "    </tr>\n",
              "    <tr>\n",
              "      <th>Departments</th>\n",
              "      <th></th>\n",
              "    </tr>\n",
              "  </thead>\n",
              "  <tbody>\n",
              "    <tr>\n",
              "      <th>Big Data</th>\n",
              "      <td>15000</td>\n",
              "    </tr>\n",
              "    <tr>\n",
              "      <th>Data Science</th>\n",
              "      <td>43000</td>\n",
              "    </tr>\n",
              "    <tr>\n",
              "      <th>IOT</th>\n",
              "      <td>15000</td>\n",
              "    </tr>\n",
              "  </tbody>\n",
              "</table>\n",
              "</div>"
            ],
            "text/plain": [
              "              salary\n",
              "Departments         \n",
              "Big Data       15000\n",
              "Data Science   43000\n",
              "IOT            15000"
            ]
          },
          "metadata": {},
          "execution_count": 74
        }
      ]
    },
    {
      "cell_type": "markdown",
      "metadata": {
        "id": "S7rdLSEXhn4W"
      },
      "source": [
        "### Group by \"Departments\" column and using mean function on \"Departments\" column:\n",
        "\n",
        "\n"
      ]
    },
    {
      "cell_type": "code",
      "metadata": {
        "id": "66fe5552",
        "colab": {
          "base_uri": "https://localhost:8080/",
          "height": 172
        },
        "outputId": "874c0d99-b76a-4e95-e452-a60f85ad21af"
      },
      "source": [
        "test3_df.groupby('Departments').mean()"
      ],
      "execution_count": 77,
      "outputs": [
        {
          "output_type": "execute_result",
          "data": {
            "text/html": [
              "<div>\n",
              "<style scoped>\n",
              "    .dataframe tbody tr th:only-of-type {\n",
              "        vertical-align: middle;\n",
              "    }\n",
              "\n",
              "    .dataframe tbody tr th {\n",
              "        vertical-align: top;\n",
              "    }\n",
              "\n",
              "    .dataframe thead th {\n",
              "        text-align: right;\n",
              "    }\n",
              "</style>\n",
              "<table border=\"1\" class=\"dataframe\">\n",
              "  <thead>\n",
              "    <tr style=\"text-align: right;\">\n",
              "      <th></th>\n",
              "      <th>salary</th>\n",
              "    </tr>\n",
              "    <tr>\n",
              "      <th>Departments</th>\n",
              "      <th></th>\n",
              "    </tr>\n",
              "  </thead>\n",
              "  <tbody>\n",
              "    <tr>\n",
              "      <th>Big Data</th>\n",
              "      <td>3750</td>\n",
              "    </tr>\n",
              "    <tr>\n",
              "      <th>Data Science</th>\n",
              "      <td>10750</td>\n",
              "    </tr>\n",
              "    <tr>\n",
              "      <th>IOT</th>\n",
              "      <td>7500</td>\n",
              "    </tr>\n",
              "  </tbody>\n",
              "</table>\n",
              "</div>"
            ],
            "text/plain": [
              "              salary\n",
              "Departments         \n",
              "Big Data        3750\n",
              "Data Science   10750\n",
              "IOT             7500"
            ]
          },
          "metadata": {},
          "execution_count": 77
        }
      ]
    },
    {
      "cell_type": "markdown",
      "metadata": {
        "id": "bndivgGjhsbq"
      },
      "source": [
        "### Group by \"Departments\" column and using count function on \"Departments\" column:\n",
        "\n"
      ]
    },
    {
      "cell_type": "code",
      "metadata": {
        "colab": {
          "base_uri": "https://localhost:8080/"
        },
        "id": "9zmhIzqv6mPb",
        "outputId": "345b717a-4844-459b-daae-485ebeee2ed7"
      },
      "source": [
        "Test3_csv.groupby('Departments').agg(count('Departments')).show()"
      ],
      "execution_count": 89,
      "outputs": [
        {
          "output_type": "stream",
          "name": "stdout",
          "text": [
            "+------------+------------------+\n",
            "| Departments|count(Departments)|\n",
            "+------------+------------------+\n",
            "|         IOT|                 2|\n",
            "|    Big Data|                 4|\n",
            "|Data Science|                 4|\n",
            "+------------+------------------+\n",
            "\n"
          ]
        }
      ]
    },
    {
      "cell_type": "code",
      "metadata": {
        "id": "bc7bf192",
        "colab": {
          "base_uri": "https://localhost:8080/",
          "height": 172
        },
        "outputId": "2db8c4ed-b362-4899-fc78-a21c1055da80"
      },
      "source": [
        "test3_df.groupby('Departments').count()"
      ],
      "execution_count": 79,
      "outputs": [
        {
          "output_type": "execute_result",
          "data": {
            "text/html": [
              "<div>\n",
              "<style scoped>\n",
              "    .dataframe tbody tr th:only-of-type {\n",
              "        vertical-align: middle;\n",
              "    }\n",
              "\n",
              "    .dataframe tbody tr th {\n",
              "        vertical-align: top;\n",
              "    }\n",
              "\n",
              "    .dataframe thead th {\n",
              "        text-align: right;\n",
              "    }\n",
              "</style>\n",
              "<table border=\"1\" class=\"dataframe\">\n",
              "  <thead>\n",
              "    <tr style=\"text-align: right;\">\n",
              "      <th></th>\n",
              "      <th>Name</th>\n",
              "      <th>salary</th>\n",
              "    </tr>\n",
              "    <tr>\n",
              "      <th>Departments</th>\n",
              "      <th></th>\n",
              "      <th></th>\n",
              "    </tr>\n",
              "  </thead>\n",
              "  <tbody>\n",
              "    <tr>\n",
              "      <th>Big Data</th>\n",
              "      <td>4</td>\n",
              "      <td>4</td>\n",
              "    </tr>\n",
              "    <tr>\n",
              "      <th>Data Science</th>\n",
              "      <td>4</td>\n",
              "      <td>4</td>\n",
              "    </tr>\n",
              "    <tr>\n",
              "      <th>IOT</th>\n",
              "      <td>2</td>\n",
              "      <td>2</td>\n",
              "    </tr>\n",
              "  </tbody>\n",
              "</table>\n",
              "</div>"
            ],
            "text/plain": [
              "              Name  salary\n",
              "Departments               \n",
              "Big Data         4       4\n",
              "Data Science     4       4\n",
              "IOT              2       2"
            ]
          },
          "metadata": {},
          "execution_count": 79
        }
      ]
    },
    {
      "cell_type": "markdown",
      "metadata": {
        "id": "dfPs99wnhwGu"
      },
      "source": [
        "### Apply agg to using sum function get the total of salaries"
      ]
    },
    {
      "cell_type": "code",
      "metadata": {
        "id": "37b26cbe",
        "colab": {
          "base_uri": "https://localhost:8080/"
        },
        "outputId": "7521df91-963e-4818-8191-2aa31a21e58e"
      },
      "source": [
        "Test3_csv.agg(sum('salary').alias('Sum Salaries')).show()"
      ],
      "execution_count": 84,
      "outputs": [
        {
          "output_type": "stream",
          "name": "stdout",
          "text": [
            "+------------+\n",
            "|Sum Salaries|\n",
            "+------------+\n",
            "|       73000|\n",
            "+------------+\n",
            "\n"
          ]
        }
      ]
    },
    {
      "cell_type": "markdown",
      "metadata": {
        "id": "MYD0wGPRi1FO"
      },
      "source": [
        "## Task 4"
      ]
    },
    {
      "cell_type": "markdown",
      "metadata": {
        "id": "lJLc1PY1i-Np"
      },
      "source": [
        "You've been flown to their headquarters in Ulsan, South Korea, to assist them in accurately estimating the number of crew members a ship will need.\n"
      ]
    },
    {
      "cell_type": "markdown",
      "metadata": {
        "id": "8PEoknoejL4r"
      },
      "source": [
        "They're currently building new ships for certain customers, and they'd like you to create a model and utilize it to estimate how many crew members the ships will require.\n"
      ]
    },
    {
      "cell_type": "markdown",
      "metadata": {
        "id": "70slYH-tjR81"
      },
      "source": [
        "Metadata:\n",
        "1. Measurements of ship size \n",
        "2. capacity \n",
        "3. crew \n",
        "4. age for 158 cruise ships."
      ]
    },
    {
      "cell_type": "markdown",
      "metadata": {
        "id": "5ZzrhGnHkRCU"
      },
      "source": [
        "It is saved in a csv file for you called \"ITI_data.csv\". our task is to develop a regression model that will assist in predicting the number of crew members required for future ships. The client also indicated that they have found that particular cruise lines will differ in acceptable crew counts, thus this is most likely an important factor to consider when conducting your investigation."
      ]
    },
    {
      "cell_type": "code",
      "metadata": {
        "id": "A9CZzWWqZnOC"
      },
      "source": [
        "ITI_data = spark.read.csv('ITI_data.csv', inferSchema=True, header=True)"
      ],
      "execution_count": 95,
      "outputs": []
    },
    {
      "cell_type": "code",
      "metadata": {
        "colab": {
          "base_uri": "https://localhost:8080/"
        },
        "id": "3Tw9xjbu7mak",
        "outputId": "0dd1cab7-9dc0-43a3-9e24-f6d66f6091da"
      },
      "source": [
        "ITI_data.show()"
      ],
      "execution_count": 96,
      "outputs": [
        {
          "output_type": "stream",
          "name": "stdout",
          "text": [
            "+-----------+-----------+---+------------------+----------+------+------+-----------------+----+\n",
            "|  Ship_name|Cruise_line|Age|           Tonnage|passengers|length|cabins|passenger_density|crew|\n",
            "+-----------+-----------+---+------------------+----------+------+------+-----------------+----+\n",
            "|    Journey|    Azamara|  6|30.276999999999997|      6.94|  5.94|  3.55|            42.64|3.55|\n",
            "|      Quest|    Azamara|  6|30.276999999999997|      6.94|  5.94|  3.55|            42.64|3.55|\n",
            "|Celebration|   Carnival| 26|            47.262|     14.86|  7.22|  7.43|             31.8| 6.7|\n",
            "|   Conquest|   Carnival| 11|             110.0|     29.74|  9.53| 14.88|            36.99|19.1|\n",
            "|    Destiny|   Carnival| 17|           101.353|     26.42|  8.92| 13.21|            38.36|10.0|\n",
            "|    Ecstasy|   Carnival| 22|            70.367|     20.52|  8.55|  10.2|            34.29| 9.2|\n",
            "|    Elation|   Carnival| 15|            70.367|     20.52|  8.55|  10.2|            34.29| 9.2|\n",
            "|    Fantasy|   Carnival| 23|            70.367|     20.56|  8.55| 10.22|            34.23| 9.2|\n",
            "|Fascination|   Carnival| 19|            70.367|     20.52|  8.55|  10.2|            34.29| 9.2|\n",
            "|    Freedom|   Carnival|  6|110.23899999999999|      37.0|  9.51| 14.87|            29.79|11.5|\n",
            "|      Glory|   Carnival| 10|             110.0|     29.74|  9.51| 14.87|            36.99|11.6|\n",
            "|    Holiday|   Carnival| 28|            46.052|     14.52|  7.27|  7.26|            31.72| 6.6|\n",
            "|Imagination|   Carnival| 18|            70.367|     20.52|  8.55|  10.2|            34.29| 9.2|\n",
            "|Inspiration|   Carnival| 17|            70.367|     20.52|  8.55|  10.2|            34.29| 9.2|\n",
            "|     Legend|   Carnival| 11|              86.0|     21.24|  9.63| 10.62|            40.49| 9.3|\n",
            "|   Liberty*|   Carnival|  8|             110.0|     29.74|  9.51| 14.87|            36.99|11.6|\n",
            "|    Miracle|   Carnival|  9|              88.5|     21.24|  9.63| 10.62|            41.67|10.3|\n",
            "|   Paradise|   Carnival| 15|            70.367|     20.52|  8.55|  10.2|            34.29| 9.2|\n",
            "|      Pride|   Carnival| 12|              88.5|     21.24|  9.63| 11.62|            41.67| 9.3|\n",
            "|  Sensation|   Carnival| 20|            70.367|     20.52|  8.55|  10.2|            34.29| 9.2|\n",
            "+-----------+-----------+---+------------------+----------+------+------+-----------------+----+\n",
            "only showing top 20 rows\n",
            "\n"
          ]
        }
      ]
    },
    {
      "cell_type": "code",
      "metadata": {
        "colab": {
          "base_uri": "https://localhost:8080/"
        },
        "id": "ZF9CFqSNAu33",
        "outputId": "73364c56-6566-43bd-f9a0-3758e9cfc09d"
      },
      "source": [
        "ITI_data.dtypes"
      ],
      "execution_count": 108,
      "outputs": [
        {
          "output_type": "execute_result",
          "data": {
            "text/plain": [
              "[('Ship_name', 'string'),\n",
              " ('Cruise_line', 'string'),\n",
              " ('Age', 'int'),\n",
              " ('Tonnage', 'double'),\n",
              " ('passengers', 'double'),\n",
              " ('length', 'double'),\n",
              " ('cabins', 'double'),\n",
              " ('passenger_density', 'double'),\n",
              " ('crew', 'double')]"
            ]
          },
          "metadata": {},
          "execution_count": 108
        }
      ]
    },
    {
      "cell_type": "code",
      "metadata": {
        "colab": {
          "base_uri": "https://localhost:8080/"
        },
        "id": "1YUr67ts7mXN",
        "outputId": "7e9b9aad-27c6-4a5d-f47c-885bbdb7561d"
      },
      "source": [
        "trainDF, testDF = ITI_data.randomSplit([.8,.2],seed=42)\n",
        "print(f\"There are {trainDF.count()} rows in the training set, and {testDF.count()} in the test set\")"
      ],
      "execution_count": 97,
      "outputs": [
        {
          "output_type": "stream",
          "name": "stdout",
          "text": [
            "There are 133 rows in the training set, and 25 in the test set\n"
          ]
        }
      ]
    },
    {
      "cell_type": "code",
      "metadata": {
        "colab": {
          "base_uri": "https://localhost:8080/"
        },
        "id": "bnudfc3e7mVi",
        "outputId": "ffc9ec57-9ef1-446e-d37e-020d0d801bab"
      },
      "source": [
        "categoricalCols = [field for(field, datatype) in trainDF.dtypes if datatype=='string']\n",
        "categoricalCols"
      ],
      "execution_count": 109,
      "outputs": [
        {
          "output_type": "execute_result",
          "data": {
            "text/plain": [
              "['Ship_name', 'Cruise_line']"
            ]
          },
          "metadata": {},
          "execution_count": 109
        }
      ]
    },
    {
      "cell_type": "code",
      "metadata": {
        "colab": {
          "base_uri": "https://localhost:8080/"
        },
        "id": "FVjA2_jQ7mTT",
        "outputId": "3485c819-2b87-4b11-dd94-12271de05128"
      },
      "source": [
        "indexOutputCols = [x + \"_Index\" for x in categoricalCols]\n",
        "indexOutputCols"
      ],
      "execution_count": 110,
      "outputs": [
        {
          "output_type": "execute_result",
          "data": {
            "text/plain": [
              "['Ship_name_Index', 'Cruise_line_Index']"
            ]
          },
          "metadata": {},
          "execution_count": 110
        }
      ]
    },
    {
      "cell_type": "code",
      "metadata": {
        "colab": {
          "base_uri": "https://localhost:8080/"
        },
        "id": "AYtY45-GA9fV",
        "outputId": "d1bfe6ea-9450-463b-c267-c188817fdde4"
      },
      "source": [
        "oheOutputCols = [x + \"_ohe\" for x in categoricalCols]\n",
        "oheOutputCols"
      ],
      "execution_count": 112,
      "outputs": [
        {
          "output_type": "execute_result",
          "data": {
            "text/plain": [
              "['Ship_name_ohe', 'Cruise_line_ohe']"
            ]
          },
          "metadata": {},
          "execution_count": 112
        }
      ]
    },
    {
      "cell_type": "code",
      "metadata": {
        "id": "qgb6pqSq7mQ_"
      },
      "source": [
        "from pyspark.ml.feature import StringIndexer, OneHotEncoder\n",
        "\n",
        "stringIndexer = StringIndexer(inputCols=categoricalCols, outputCols=indexOutputCols, handleInvalid='skip')"
      ],
      "execution_count": 113,
      "outputs": []
    },
    {
      "cell_type": "markdown",
      "metadata": {
        "id": "1QTNLhZSlf9_"
      },
      "source": [
        "### OneHotEncoder \n"
      ]
    },
    {
      "cell_type": "code",
      "metadata": {
        "colab": {
          "base_uri": "https://localhost:8080/"
        },
        "id": "e_2lXnkyBbfu",
        "outputId": "e43eea92-460a-4f1a-9229-6e58c912f1ef"
      },
      "source": [
        "ohEncoder = OneHotEncoder(inputCols=indexOutputCols, outputCols=oheOutputCols)\n",
        "ohEncoder"
      ],
      "execution_count": 115,
      "outputs": [
        {
          "output_type": "execute_result",
          "data": {
            "text/plain": [
              "OneHotEncoder_778133188cee"
            ]
          },
          "metadata": {},
          "execution_count": 115
        }
      ]
    },
    {
      "cell_type": "code",
      "metadata": {
        "colab": {
          "base_uri": "https://localhost:8080/"
        },
        "id": "VJ19se2K9ZIi",
        "outputId": "b8bf2568-e79e-4ca9-b1cf-214282f93585"
      },
      "source": [
        "numericCols = [field for (field,dataType) in trainDF.dtypes\n",
        "              if (((dataType=='double') or (dataType=='int')) and (field !='crew') )]\n",
        "numericCols"
      ],
      "execution_count": 118,
      "outputs": [
        {
          "output_type": "execute_result",
          "data": {
            "text/plain": [
              "['Age', 'Tonnage', 'passengers', 'length', 'cabins', 'passenger_density']"
            ]
          },
          "metadata": {},
          "execution_count": 118
        }
      ]
    },
    {
      "cell_type": "code",
      "metadata": {
        "colab": {
          "base_uri": "https://localhost:8080/"
        },
        "id": "Rq36LbAg9ZGt",
        "outputId": "67a7b98a-2923-4c77-de79-b293021fa512"
      },
      "source": [
        "assemblerInputs = oheOutputCols + numericCols\n",
        "assemblerInputs"
      ],
      "execution_count": 119,
      "outputs": [
        {
          "output_type": "execute_result",
          "data": {
            "text/plain": [
              "['Ship_name_ohe',\n",
              " 'Cruise_line_ohe',\n",
              " 'Age',\n",
              " 'Tonnage',\n",
              " 'passengers',\n",
              " 'length',\n",
              " 'cabins',\n",
              " 'passenger_density']"
            ]
          },
          "metadata": {},
          "execution_count": 119
        }
      ]
    },
    {
      "cell_type": "markdown",
      "metadata": {
        "id": "RNCxWem0l662"
      },
      "source": [
        "###Use VectorAssembler to merge all columns into one column:"
      ]
    },
    {
      "cell_type": "code",
      "metadata": {
        "id": "IVFu5GQK9ZD6"
      },
      "source": [
        "from pyspark.ml.feature import VectorAssembler\n",
        "\n",
        "vecAssembler = VectorAssembler(inputCols=assemblerInputs, outputCol='features')"
      ],
      "execution_count": 120,
      "outputs": []
    },
    {
      "cell_type": "markdown",
      "metadata": {
        "id": "Rbf56f6AmUUl"
      },
      "source": [
        "### Create a Regression Model "
      ]
    },
    {
      "cell_type": "code",
      "metadata": {
        "id": "Iq21L_CX9ZBD"
      },
      "source": [
        "from pyspark.ml.regression import RandomForestRegressor\n",
        "\n",
        "rf = RandomForestRegressor(labelCol='crew',featuresCol='features')"
      ],
      "execution_count": 148,
      "outputs": []
    },
    {
      "cell_type": "markdown",
      "metadata": {
        "id": "dVdxQTcSC6Cz"
      },
      "source": [
        "### Creating a Pipeline"
      ]
    },
    {
      "cell_type": "code",
      "metadata": {
        "id": "jtT8xwnj9Y-u"
      },
      "source": [
        "from pyspark.ml import Pipeline\n",
        "\n",
        "pipeline =Pipeline(stages = [stringIndexer, ohEncoder, vecAssembler, rf])"
      ],
      "execution_count": 149,
      "outputs": []
    },
    {
      "cell_type": "code",
      "metadata": {
        "id": "-E-mtpQI9Y87"
      },
      "source": [
        "pipelineModel = pipeline.fit(trainDF)"
      ],
      "execution_count": 150,
      "outputs": []
    },
    {
      "cell_type": "code",
      "metadata": {
        "id": "XpW35Pga9Y6m"
      },
      "source": [
        "predDF = pipelineModel.transform(testDF)"
      ],
      "execution_count": 151,
      "outputs": []
    },
    {
      "cell_type": "code",
      "metadata": {
        "colab": {
          "base_uri": "https://localhost:8080/"
        },
        "id": "J7ozD6CQFTvH",
        "outputId": "b8776e20-c312-4833-ab31-4a36e3123ae1"
      },
      "source": [
        "predDF.select('crew', 'prediction').show(5)"
      ],
      "execution_count": 152,
      "outputs": [
        {
          "output_type": "stream",
          "name": "stdout",
          "text": [
            "+----+------------------+\n",
            "|crew|        prediction|\n",
            "+----+------------------+\n",
            "|12.0|11.585839692451506|\n",
            "|8.69| 9.152692573629178|\n",
            "| 6.3|6.3453607362976605|\n",
            "|0.88|0.8427440476190476|\n",
            "|1.97|2.1576583333333335|\n",
            "+----+------------------+\n",
            "\n"
          ]
        }
      ]
    },
    {
      "cell_type": "markdown",
      "metadata": {
        "id": "DEbfwhqeHOCc"
      },
      "source": [
        "### Model Evaluation"
      ]
    },
    {
      "cell_type": "code",
      "metadata": {
        "id": "g_6BNkYt9Y4W"
      },
      "source": [
        "from pyspark.ml.evaluation import RegressionEvaluator\n",
        "\n",
        "Evaluator = RegressionEvaluator(predictionCol='prediction', labelCol='crew', metricName='r2')"
      ],
      "execution_count": 153,
      "outputs": []
    },
    {
      "cell_type": "code",
      "metadata": {
        "id": "3dUz3d7_7mO3"
      },
      "source": [
        "r2_score = Evaluator.evaluate(predDF)"
      ],
      "execution_count": 154,
      "outputs": []
    },
    {
      "cell_type": "code",
      "metadata": {
        "colab": {
          "base_uri": "https://localhost:8080/"
        },
        "id": "g4MBL65X7mMb",
        "outputId": "f64cfae6-955d-4dcc-f1b7-c5bf0f8c619b"
      },
      "source": [
        "r2_score"
      ],
      "execution_count": 155,
      "outputs": [
        {
          "output_type": "execute_result",
          "data": {
            "text/plain": [
              "0.995053709131534"
            ]
          },
          "metadata": {},
          "execution_count": 155
        }
      ]
    },
    {
      "cell_type": "code",
      "metadata": {
        "id": "tUPzUT0aFyU8"
      },
      "source": [
        "# import math\n",
        "# crew = predDF.select('crew')\n",
        "# crew['LogCrew'] = crew['crew'].apply(math.log).hist(bins=300)"
      ],
      "execution_count": 136,
      "outputs": []
    },
    {
      "cell_type": "code",
      "metadata": {
        "id": "4xLjuv-5GOFo"
      },
      "source": [
        "pipelineModel.write().overwrite().save('MyModel')"
      ],
      "execution_count": 137,
      "outputs": []
    },
    {
      "cell_type": "code",
      "metadata": {
        "id": "BC3bRSW5FyQf"
      },
      "source": [
        "from pyspark.ml import  PipelineModel\n",
        "\n",
        "saveModel = PipelineModel.load('MyModel')"
      ],
      "execution_count": 138,
      "outputs": []
    },
    {
      "cell_type": "code",
      "metadata": {
        "colab": {
          "base_uri": "https://localhost:8080/"
        },
        "id": "tE_Eg5XrFyOe",
        "outputId": "7014dd5b-e87e-4c9d-86ec-cd4a15b26f14"
      },
      "source": [
        "saveModel"
      ],
      "execution_count": 139,
      "outputs": [
        {
          "output_type": "execute_result",
          "data": {
            "text/plain": [
              "PipelineModel_71285da87069"
            ]
          },
          "metadata": {},
          "execution_count": 139
        }
      ]
    },
    {
      "cell_type": "code",
      "metadata": {
        "id": "UqM9HxkNIHwE"
      },
      "source": [
        ""
      ],
      "execution_count": null,
      "outputs": []
    },
    {
      "cell_type": "code",
      "metadata": {
        "id": "5yC6Kf9MYZtb"
      },
      "source": [
        ""
      ],
      "execution_count": null,
      "outputs": []
    },
    {
      "cell_type": "markdown",
      "metadata": {
        "id": "SluXM6j-Gt9B"
      },
      "source": [
        "By Eng. Mostafa Nabieh \n",
        "If you have questions, please feel free to ask.\n",
        "\n",
        "My Email : nabieh.mostafa@yahoo.com\n",
        "\n",
        "My Whatsapp : +201015197566"
      ]
    }
  ]
}